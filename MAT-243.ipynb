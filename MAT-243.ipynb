{
 "cells": [
  {
   "cell_type": "code",
   "execution_count": 34,
   "id": "eea9abf7",
   "metadata": {},
   "outputs": [],
   "source": [
    "import statistics\n",
    "import numpy as np\n",
    "import pandas as pd\n",
    "from scipy import stats"
   ]
  },
  {
   "cell_type": "code",
   "execution_count": 9,
   "id": "4dc4a8c2",
   "metadata": {},
   "outputs": [
    {
     "data": {
      "text/plain": [
       "4"
      ]
     },
     "execution_count": 9,
     "metadata": {},
     "output_type": "execute_result"
    }
   ],
   "source": [
    "nums = [2,6,4]\n",
    "\n",
    "statistics.mean(nums)"
   ]
  },
  {
   "cell_type": "code",
   "execution_count": 10,
   "id": "ef30fee6",
   "metadata": {},
   "outputs": [
    {
     "data": {
      "text/plain": [
       "2.5"
      ]
     },
     "execution_count": 10,
     "metadata": {},
     "output_type": "execute_result"
    }
   ],
   "source": [
    "nums = [2,3,4,1]\n",
    "\n",
    "statistics.mean(nums)"
   ]
  },
  {
   "cell_type": "code",
   "execution_count": 11,
   "id": "21168640",
   "metadata": {},
   "outputs": [
    {
     "data": {
      "text/plain": [
       "6"
      ]
     },
     "execution_count": 11,
     "metadata": {},
     "output_type": "execute_result"
    }
   ],
   "source": [
    "nums = [-3,15]\n",
    "\n",
    "statistics.mean(nums)\n"
   ]
  },
  {
   "cell_type": "code",
   "execution_count": 17,
   "id": "354dc7e2",
   "metadata": {},
   "outputs": [
    {
     "name": "stdout",
     "output_type": "stream",
     "text": [
      "6.0\n"
     ]
    }
   ],
   "source": [
    "#weighted one\n",
    "nums = [20,4,1]\n",
    "nums_weight = [1,2,2]\n",
    "\n",
    "numbers = np.array(nums)\n",
    "numbers_weight = np.array(nums_weight)\n",
    "\n",
    "avg_weighted = np.average(numbers, weights = numbers_weight)\n",
    "print(avg_weighted)"
   ]
  },
  {
   "cell_type": "code",
   "execution_count": 18,
   "id": "d1b11bc0",
   "metadata": {},
   "outputs": [
    {
     "name": "stdout",
     "output_type": "stream",
     "text": [
      "10.0\n"
     ]
    }
   ],
   "source": [
    "#weighted two\n",
    "\n",
    "nums = [3,0,37]\n",
    "nums_weight = [2,4,2]\n",
    "\n",
    "numbers = np.array(nums)\n",
    "numbers_weight = np.array(nums_weight)\n",
    "\n",
    "avg_weighted = np.average(numbers, weights = numbers_weight)\n",
    "print(avg_weighted)\n"
   ]
  },
  {
   "cell_type": "code",
   "execution_count": 28,
   "id": "ac7bd472",
   "metadata": {},
   "outputs": [
    {
     "name": "stdout",
     "output_type": "stream",
     "text": [
      "dataset 1 median is 5.0\n",
      "dataset 2 median is 4.0\n",
      "dataset 3 median is -1.0\n"
     ]
    }
   ],
   "source": [
    "#1\n",
    "\n",
    "dataset_1= [1,4,5,9,11]\n",
    "dataset_1_median = np.median(dataset_1) \n",
    "print(\"dataset 1 median is\", dataset_1_median)\n",
    "\n",
    "#2\n",
    "dataset_2= [2,3,5,18]\n",
    "dataset_2_median = np.median(dataset_2) \n",
    "print(\"dataset 2 median is\", dataset_2_median)\n",
    "\n",
    "#3\n",
    "dataset_3= [-1,-5,-3,6,7]\n",
    "dataset_3_median = np.median(dataset_3) \n",
    "print(\"dataset 3 median is\", dataset_3_median)"
   ]
  },
  {
   "cell_type": "code",
   "execution_count": 35,
   "id": "c17eb15a",
   "metadata": {},
   "outputs": [
    {
     "name": "stdout",
     "output_type": "stream",
     "text": [
      "ModeResult(mode=array([9]), count=array([3]))\n"
     ]
    }
   ],
   "source": [
    "#mode\n",
    "dataset_4 = [1,3,3,5,5,9,9,9]\n",
    "print(stats.mode(dataset_4))"
   ]
  },
  {
   "cell_type": "code",
   "execution_count": 38,
   "id": "4ffb53f5",
   "metadata": {},
   "outputs": [
    {
     "name": "stdout",
     "output_type": "stream",
     "text": [
      "3.0\n",
      "Sample variance 3.3333333333333335\n",
      "Sample Std 1.8257418583505538\n",
      "Population variance 2.5\n",
      "Population Std 1.5811388300841898\n"
     ]
    }
   ],
   "source": [
    "dataset_5 = [1,2,4,5]\n",
    "#average\n",
    "print(np.average(dataset_5))\n",
    "#sample variance\n",
    "print(\"Sample variance\", np.var(dataset_5,ddof = 1))\n",
    "#sample std\n",
    "print(\"Sample Std\", np.std(dataset_5,ddof = 1))\n",
    "#population variance\n",
    "print(\"Population variance\", np.var(dataset_5))\n",
    "#standard deviation\n",
    "print(\"Population Std\", np.std(dataset_5))"
   ]
  },
  {
   "cell_type": "code",
   "execution_count": 43,
   "id": "9bf319e3",
   "metadata": {},
   "outputs": [
    {
     "name": "stdout",
     "output_type": "stream",
     "text": [
      "mean scores 3.0\n",
      "mean absolute deviation 1.5\n"
     ]
    }
   ],
   "source": [
    "scores = [1,2,4,5]\n",
    "\n",
    "series = pd.Series(scores)\n",
    "\n",
    "print(\"mean scores\", series.mean())\n",
    "print(\"mean absolute deviation\", series.mad())"
   ]
  },
  {
   "cell_type": "code",
   "execution_count": null,
   "id": "1526b588",
   "metadata": {},
   "outputs": [],
   "source": []
  }
 ],
 "metadata": {
  "kernelspec": {
   "display_name": "Python 3 (ipykernel)",
   "language": "python",
   "name": "python3"
  },
  "language_info": {
   "codemirror_mode": {
    "name": "ipython",
    "version": 3
   },
   "file_extension": ".py",
   "mimetype": "text/x-python",
   "name": "python",
   "nbconvert_exporter": "python",
   "pygments_lexer": "ipython3",
   "version": "3.10.0"
  }
 },
 "nbformat": 4,
 "nbformat_minor": 5
}
